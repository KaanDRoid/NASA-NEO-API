{
 "cells": [
  {
   "cell_type": "code",
   "execution_count": 1,
   "metadata": {},
   "outputs": [],
   "source": [
    "import time\n",
    "import requests\n"
   ]
  },
  {
   "cell_type": "code",
   "execution_count": 2,
   "metadata": {},
   "outputs": [],
   "source": [
    "# NASA API Configuration\n",
    "API_KEY = \"iNKMhBbuayi9ZhfGv051yqTUcCOegJwnEc9jESb7\"\n",
    "BASE_URL = \"https://api.nasa.gov/neo/rest/v1/neo/\"\n",
    "FEED_URL = \"https://api.nasa.gov/neo/rest/v1/feed\""
   ]
  },
  {
   "cell_type": "code",
   "execution_count": 3,
   "metadata": {},
   "outputs": [],
   "source": [
    "# Function to fetch asteroids for the given date range\n",
    "# This function sends a request to NASA's NEO API and returns asteroid data for the specified date range.\n",
    "def fetch_asteroids(start_date, end_date):\n",
    "    url = f\"{FEED_URL}?start_date={start_date}&end_date={end_date}&api_key={API_KEY}\"\n",
    "    response = requests.get(url)\n",
    "    if response.status_code == 200:\n",
    "        return response.json().get(\"near_earth_objects\", {})\n",
    "    else:\n",
    "        print(f\"Error fetching asteroid data: {response.status_code} - {response.text}\")\n",
    "        return {}"
   ]
  },
  {
   "cell_type": "code",
   "execution_count": 4,
   "metadata": {},
   "outputs": [],
   "source": [
    "# Extract unique asteroid IDs from the API response\n",
    "# This function parses the API response and collects unique asteroid IDs.\n",
    "def extract_unique_asteroid_ids(data):\n",
    "    asteroid_ids = set()\n",
    "    for date in data:\n",
    "        for asteroid in data[date]:\n",
    "            asteroid_ids.add(asteroid[\"id\"])\n",
    "    return asteroid_ids"
   ]
  },
  {
   "cell_type": "code",
   "execution_count": 5,
   "metadata": {},
   "outputs": [],
   "source": [
    "\n",
    "# Function to fetch metadata for each asteroid ID with rate limiting\n",
    "# This function retrieves detailed metadata for each asteroid and ensures the API rate limit is respected.\n",
    "def fetch_asteroid_metadata(asteroid_ids):\n",
    "    asteroid_metadata = {}\n",
    "    count = 0\n",
    "\n",
    "    for asteroid_id in asteroid_ids:\n",
    "        url = f\"{BASE_URL}{asteroid_id}?api_key={API_KEY}\"\n",
    "        response = requests.get(url)\n",
    "\n",
    "        if response.status_code == 200:\n",
    "            asteroid_metadata[asteroid_id] = response.json()\n",
    "            print(f\"✅ Fetched data for Asteroid ID: {asteroid_id}\")\n",
    "        else:\n",
    "            print(f\"❌ Error fetching {asteroid_id}: {response.status_code} - {response.text}\")\n",
    "\n",
    "        count += 1\n",
    "        # Respect API rate limit\n",
    "        if count % 5 == 0:\n",
    "            print(\"⏳ Waiting 60 seconds to respect API rate limits...\")\n",
    "            time.sleep(60)\n",
    "\n",
    "    return asteroid_metadata"
   ]
  },
  {
   "cell_type": "code",
   "execution_count": 9,
   "metadata": {},
   "outputs": [],
   "source": [
    "# Fetch data for February 1 to February 7\n",
    "# This block fetches asteroid data within the specified date range.\n",
    "asteroid_data = fetch_asteroids(\"2025-02-01\", \"2025-02-07\")"
   ]
  },
  {
   "cell_type": "code",
   "execution_count": 10,
   "metadata": {},
   "outputs": [
    {
     "name": "stdout",
     "output_type": "stream",
     "text": [
      "Unique Asteroid IDs: {'54518083', '3656792', '54517101', '54517794', '54518624', '54225504', '3617387', '3550466', '54516850', '54340307', '54517793', '3729141', '54516182', '54236439', '54517089', '3989158', '54518077', '3797702', '54505735', '2428694', '54342224', '54341593', '54245563', '54517677', '3601299', '3092284', '3744562', '54518085', '54485070', '54441265', '3803762', '54319154', '54239541', '3745111', '3789390', '3836246', '54496406', '3721289', '2006239', '3721991', '54421074', '54497570', '54516263', '54509624', '54158076', '2326290', '54517090', '3798973', '3824091', '54518626', '54483140', '54517242', '3477945', '54138698', '54294032', '54518078', '54317855', '3831890', '3743127', '3989259', '54016528', '3358222', '3739246', '3741971', '3797901', '54517238', '3879536', '54244181', '3799640', '54518076', '54017272', '54324412', '3991734', '3827356', '3720924', '54110088', '54517336', '54516260', '3745113', '2416591', '54502869', '3553988', '54518081', '54485066', '3838075', '3114026'}\n",
      "Total Unique Asteroid IDs: 86\n"
     ]
    }
   ],
   "source": [
    "# Extract unique asteroid IDs\n",
    "# This block identifies unique asteroid IDs from the fetched data.\n",
    "asteroid_ids = extract_unique_asteroid_ids(asteroid_data)\n",
    "print(\"Unique Asteroid IDs:\", asteroid_ids)\n",
    "print(\"Total Unique Asteroid IDs:\", len(asteroid_ids))"
   ]
  },
  {
   "cell_type": "code",
   "execution_count": 11,
   "metadata": {},
   "outputs": [
    {
     "name": "stdout",
     "output_type": "stream",
     "text": [
      "✅ Fetched data for Asteroid ID: 54518083\n",
      "✅ Fetched data for Asteroid ID: 3656792\n",
      "✅ Fetched data for Asteroid ID: 54517101\n",
      "✅ Fetched data for Asteroid ID: 54517794\n",
      "✅ Fetched data for Asteroid ID: 54518624\n",
      "⏳ Waiting 60 seconds to respect API rate limits...\n",
      "✅ Fetched data for Asteroid ID: 54225504\n",
      "✅ Fetched data for Asteroid ID: 3617387\n",
      "✅ Fetched data for Asteroid ID: 3550466\n",
      "✅ Fetched data for Asteroid ID: 54516850\n",
      "✅ Fetched data for Asteroid ID: 54340307\n",
      "⏳ Waiting 60 seconds to respect API rate limits...\n",
      "✅ Fetched data for Asteroid ID: 54517793\n",
      "✅ Fetched data for Asteroid ID: 3729141\n",
      "✅ Fetched data for Asteroid ID: 54516182\n",
      "✅ Fetched data for Asteroid ID: 54236439\n",
      "✅ Fetched data for Asteroid ID: 54517089\n",
      "⏳ Waiting 60 seconds to respect API rate limits...\n",
      "✅ Fetched data for Asteroid ID: 3989158\n",
      "✅ Fetched data for Asteroid ID: 54518077\n",
      "✅ Fetched data for Asteroid ID: 3797702\n",
      "✅ Fetched data for Asteroid ID: 54505735\n",
      "✅ Fetched data for Asteroid ID: 2428694\n",
      "⏳ Waiting 60 seconds to respect API rate limits...\n",
      "✅ Fetched data for Asteroid ID: 54342224\n",
      "✅ Fetched data for Asteroid ID: 54341593\n",
      "✅ Fetched data for Asteroid ID: 54245563\n",
      "✅ Fetched data for Asteroid ID: 54517677\n",
      "✅ Fetched data for Asteroid ID: 3601299\n",
      "⏳ Waiting 60 seconds to respect API rate limits...\n",
      "✅ Fetched data for Asteroid ID: 3092284\n",
      "✅ Fetched data for Asteroid ID: 3744562\n",
      "✅ Fetched data for Asteroid ID: 54518085\n",
      "✅ Fetched data for Asteroid ID: 54485070\n",
      "✅ Fetched data for Asteroid ID: 54441265\n",
      "⏳ Waiting 60 seconds to respect API rate limits...\n",
      "✅ Fetched data for Asteroid ID: 3803762\n",
      "✅ Fetched data for Asteroid ID: 54319154\n",
      "✅ Fetched data for Asteroid ID: 54239541\n",
      "✅ Fetched data for Asteroid ID: 3745111\n",
      "✅ Fetched data for Asteroid ID: 3789390\n",
      "⏳ Waiting 60 seconds to respect API rate limits...\n",
      "✅ Fetched data for Asteroid ID: 3836246\n",
      "✅ Fetched data for Asteroid ID: 54496406\n",
      "✅ Fetched data for Asteroid ID: 3721289\n",
      "✅ Fetched data for Asteroid ID: 2006239\n",
      "✅ Fetched data for Asteroid ID: 3721991\n",
      "⏳ Waiting 60 seconds to respect API rate limits...\n",
      "✅ Fetched data for Asteroid ID: 54421074\n",
      "✅ Fetched data for Asteroid ID: 54497570\n",
      "✅ Fetched data for Asteroid ID: 54516263\n",
      "✅ Fetched data for Asteroid ID: 54509624\n",
      "✅ Fetched data for Asteroid ID: 54158076\n",
      "⏳ Waiting 60 seconds to respect API rate limits...\n",
      "✅ Fetched data for Asteroid ID: 2326290\n",
      "✅ Fetched data for Asteroid ID: 54517090\n",
      "✅ Fetched data for Asteroid ID: 3798973\n",
      "✅ Fetched data for Asteroid ID: 3824091\n",
      "✅ Fetched data for Asteroid ID: 54518626\n",
      "⏳ Waiting 60 seconds to respect API rate limits...\n",
      "✅ Fetched data for Asteroid ID: 54483140\n",
      "✅ Fetched data for Asteroid ID: 54517242\n",
      "✅ Fetched data for Asteroid ID: 3477945\n",
      "✅ Fetched data for Asteroid ID: 54138698\n",
      "✅ Fetched data for Asteroid ID: 54294032\n",
      "⏳ Waiting 60 seconds to respect API rate limits...\n"
     ]
    },
    {
     "ename": "KeyboardInterrupt",
     "evalue": "",
     "output_type": "error",
     "traceback": [
      "\u001b[1;31m---------------------------------------------------------------------------\u001b[0m",
      "\u001b[1;31mKeyboardInterrupt\u001b[0m                         Traceback (most recent call last)",
      "Cell \u001b[1;32mIn[11], line 3\u001b[0m\n\u001b[0;32m      1\u001b[0m \u001b[38;5;66;03m# Fetch metadata for each unique asteroid ID\u001b[39;00m\n\u001b[0;32m      2\u001b[0m \u001b[38;5;66;03m# This block retrieves detailed metadata for each unique asteroid.\u001b[39;00m\n\u001b[1;32m----> 3\u001b[0m asteroid_metadata \u001b[38;5;241m=\u001b[39m \u001b[43mfetch_asteroid_metadata\u001b[49m\u001b[43m(\u001b[49m\u001b[43masteroid_ids\u001b[49m\u001b[43m)\u001b[49m\n\u001b[0;32m      5\u001b[0m \u001b[38;5;28mprint\u001b[39m(\u001b[38;5;124m\"\u001b[39m\u001b[38;5;124mFetched metadata for all asteroids.\u001b[39m\u001b[38;5;124m\"\u001b[39m)\n",
      "Cell \u001b[1;32mIn[5], line 21\u001b[0m, in \u001b[0;36mfetch_asteroid_metadata\u001b[1;34m(asteroid_ids)\u001b[0m\n\u001b[0;32m     19\u001b[0m     \u001b[38;5;28;01mif\u001b[39;00m count \u001b[38;5;241m%\u001b[39m \u001b[38;5;241m5\u001b[39m \u001b[38;5;241m==\u001b[39m \u001b[38;5;241m0\u001b[39m:\n\u001b[0;32m     20\u001b[0m         \u001b[38;5;28mprint\u001b[39m(\u001b[38;5;124m\"\u001b[39m\u001b[38;5;124m⏳ Waiting 60 seconds to respect API rate limits...\u001b[39m\u001b[38;5;124m\"\u001b[39m)\n\u001b[1;32m---> 21\u001b[0m         \u001b[43mtime\u001b[49m\u001b[38;5;241;43m.\u001b[39;49m\u001b[43msleep\u001b[49m\u001b[43m(\u001b[49m\u001b[38;5;241;43m60\u001b[39;49m\u001b[43m)\u001b[49m\n\u001b[0;32m     23\u001b[0m \u001b[38;5;28;01mreturn\u001b[39;00m asteroid_metadata\n",
      "\u001b[1;31mKeyboardInterrupt\u001b[0m: "
     ]
    }
   ],
   "source": [
    "# Fetch metadata for each unique asteroid ID\n",
    "# This block retrieves detailed metadata for each unique asteroid.\n",
    "asteroid_metadata = fetch_asteroid_metadata(asteroid_ids)\n",
    "\n",
    "print(\"Fetched metadata for all asteroids.\")"
   ]
  }
 ],
 "metadata": {
  "kernelspec": {
   "display_name": "new_env",
   "language": "python",
   "name": "python3"
  },
  "language_info": {
   "codemirror_mode": {
    "name": "ipython",
    "version": 3
   },
   "file_extension": ".py",
   "mimetype": "text/x-python",
   "name": "python",
   "nbconvert_exporter": "python",
   "pygments_lexer": "ipython3",
   "version": "3.9.21"
  }
 },
 "nbformat": 4,
 "nbformat_minor": 2
}
